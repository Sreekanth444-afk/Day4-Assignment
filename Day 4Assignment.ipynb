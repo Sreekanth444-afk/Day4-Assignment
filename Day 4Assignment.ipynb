{
 "cells": [
  {
   "cell_type": "code",
   "execution_count": 3,
   "metadata": {},
   "outputs": [],
   "source": [
    "#Assignment 1\n",
    "def fibbonacci(nterm):\n",
    "    n1=0\n",
    "    n2=1\n",
    "    count=0\n",
    "    if nterm<=0:\n",
    "        print('please enter a positive integer')\n",
    "    elif nterm == 1:\n",
    "        print('fibbonacci sequence upto',nterm,\":\")\n",
    "    else:\n",
    "        print('fibbonacci sequence:')\n",
    "    while count<nterm:\n",
    "        print(n1)\n",
    "        nth=n1+n2\n",
    "        n1=n2\n",
    "        n2=nth\n",
    "        count=count+1"
   ]
  },
  {
   "cell_type": "code",
   "execution_count": 2,
   "metadata": {},
   "outputs": [
    {
     "name": "stdout",
     "output_type": "stream",
     "text": [
      "fibbonacci sequence:\n",
      "0\n",
      "1\n",
      "1\n",
      "2\n",
      "3\n",
      "5\n",
      "8\n",
      "13\n",
      "21\n",
      "34\n"
     ]
    }
   ],
   "source": [
    "fibbonacci(10)"
   ]
  },
  {
   "cell_type": "code",
   "execution_count": 6,
   "metadata": {},
   "outputs": [],
   "source": [
    "#Assignment 2\n",
    "f1=open(\"file.txt\",'wb')\n",
    "a=bytearray('I Learn python'.encode(\"utf8\"))\n",
    "f1.write(a)\n",
    "f1.close()"
   ]
  },
  {
   "cell_type": "code",
   "execution_count": 7,
   "metadata": {},
   "outputs": [
    {
     "name": "stdout",
     "output_type": "stream",
     "text": [
      "b'I Learn python'\n"
     ]
    }
   ],
   "source": [
    "f1=open(\"file.txt\",'rb')\n",
    "print(f1.read())\n",
    "f1.close()"
   ]
  },
  {
   "cell_type": "code",
   "execution_count": 8,
   "metadata": {},
   "outputs": [],
   "source": [
    "f1=open(\"file.txt\",\"ab\")\n",
    "ar=bytearray(\"I Love lets grade up\".encode(\"utf8\"))\n",
    "f1.write(ar)\n",
    "f1.close()"
   ]
  },
  {
   "cell_type": "code",
   "execution_count": 9,
   "metadata": {},
   "outputs": [
    {
     "name": "stdout",
     "output_type": "stream",
     "text": [
      "b'I Learn pythonI Love lets grade up'\n"
     ]
    }
   ],
   "source": [
    "with open(\"file.txt\",\"rb\") as f1:\n",
    "    print(f1.read())"
   ]
  },
  {
   "cell_type": "code",
   "execution_count": 10,
   "metadata": {},
   "outputs": [],
   "source": [
    "#Assignment 3\n",
    "def movie(name):\n",
    "    if name==\"Thriller\":\n",
    "        print(\"yamadonga,rabasa\")\n",
    "    if name==\"Action\":\n",
    "        print(\"avengers,raja the great\")\n",
    "    if name==\"Drama\":\n",
    "        print(\"NTR biopic,devudu vhesina manushulu,yamagola\")\n",
    "    if name==\"Sentimental\":\n",
    "        print(\"So satyamurty,nenu sailaja,unnadhi okkate jindhagi\")"
   ]
  },
  {
   "cell_type": "code",
   "execution_count": 11,
   "metadata": {},
   "outputs": [
    {
     "name": "stdout",
     "output_type": "stream",
     "text": [
      "yamadonga,rabasa\n"
     ]
    }
   ],
   "source": [
    "movie(\"Thriller\")"
   ]
  },
  {
   "cell_type": "code",
   "execution_count": 22,
   "metadata": {},
   "outputs": [
    {
     "name": "stdout",
     "output_type": "stream",
     "text": [
      "avengers,raja the great\n"
     ]
    }
   ],
   "source": [
    "movie(\"Action\")"
   ]
  },
  {
   "cell_type": "code",
   "execution_count": 24,
   "metadata": {},
   "outputs": [
    {
     "name": "stdout",
     "output_type": "stream",
     "text": [
      "NTR biopic,devudu vhesina manushulu,yamagola\n"
     ]
    }
   ],
   "source": [
    "movie(\"Drama\")"
   ]
  }
 ],
 "metadata": {
  "kernelspec": {
   "display_name": "Python 3",
   "language": "python",
   "name": "python3"
  },
  "language_info": {
   "codemirror_mode": {
    "name": "ipython",
    "version": 3
   },
   "file_extension": ".py",
   "mimetype": "text/x-python",
   "name": "python",
   "nbconvert_exporter": "python",
   "pygments_lexer": "ipython3",
   "version": "3.7.6"
  }
 },
 "nbformat": 4,
 "nbformat_minor": 4
}
